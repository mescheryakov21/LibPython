{
 "cells": [
  {
   "cell_type": "code",
   "execution_count": 2,
   "outputs": [
    {
     "data": {
      "text/plain": "sklearn.utils._bunch.Bunch"
     },
     "execution_count": 2,
     "metadata": {},
     "output_type": "execute_result"
    }
   ],
   "source": [
    "import numpy as np\n",
    "import pandas as pd\n",
    "import matplotlib.pyplot as plt\n",
    "from sklearn.datasets import load_wine\n",
    "\n",
    "data = load_wine()\n",
    "type(data)"
   ],
   "metadata": {
    "collapsed": false,
    "pycharm": {
     "name": "#%%\n"
    }
   }
  },
  {
   "cell_type": "code",
   "execution_count": 3,
   "outputs": [
    {
     "data": {
      "text/plain": "['data', 'target', 'frame', 'target_names', 'DESCR', 'feature_names']"
     },
     "execution_count": 3,
     "metadata": {},
     "output_type": "execute_result"
    }
   ],
   "source": [
    "data_keys = list(data.keys())\n",
    "data_keys"
   ],
   "metadata": {
    "collapsed": false,
    "pycharm": {
     "name": "#%%\n"
    }
   }
  },
  {
   "cell_type": "code",
   "execution_count": 4,
   "outputs": [
    {
     "name": "stdout",
     "output_type": "stream",
     "text": [
      ".. _wine_dataset:\n",
      "\n",
      "Wine recognition dataset\n",
      "------------------------\n",
      "\n",
      "**Data Set Characteristics:**\n",
      "\n",
      "    :Number of Instances: 178 (50 in each of three classes)\n",
      "    :Number of Attributes: 13 numeric, predictive attributes and the class\n",
      "    :Attribute Information:\n",
      " \t\t- Alcohol\n",
      " \t\t- Malic acid\n",
      " \t\t- Ash\n",
      "\t\t- Alcalinity of ash  \n",
      " \t\t- Magnesium\n",
      "\t\t- Total phenols\n",
      " \t\t- Flavanoids\n",
      " \t\t- Nonflavanoid phenols\n",
      " \t\t- Proanthocyanins\n",
      "\t\t- Color intensity\n",
      " \t\t- Hue\n",
      " \t\t- OD280/OD315 of diluted wines\n",
      " \t\t- Proline\n",
      "\n",
      "    - class:\n",
      "            - class_0\n",
      "            - class_1\n",
      "            - class_2\n",
      "\t\t\n",
      "    :Summary Statistics:\n",
      "    \n",
      "    ============================= ==== ===== ======= =====\n",
      "                                   Min   Max   Mean     SD\n",
      "    ============================= ==== ===== ======= =====\n",
      "    Alcohol:                      11.0  14.8    13.0   0.8\n",
      "    Malic Acid:                   0.74  5.80    2.34  1.12\n",
      "    Ash:                          1.36  3.23    2.36  0.27\n",
      "    Alcalinity of Ash:            10.6  30.0    19.5   3.3\n",
      "    Magnesium:                    70.0 162.0    99.7  14.3\n",
      "    Total Phenols:                0.98  3.88    2.29  0.63\n",
      "    Flavanoids:                   0.34  5.08    2.03  1.00\n",
      "    Nonflavanoid Phenols:         0.13  0.66    0.36  0.12\n",
      "    Proanthocyanins:              0.41  3.58    1.59  0.57\n",
      "    Colour Intensity:              1.3  13.0     5.1   2.3\n",
      "    Hue:                          0.48  1.71    0.96  0.23\n",
      "    OD280/OD315 of diluted wines: 1.27  4.00    2.61  0.71\n",
      "    Proline:                       278  1680     746   315\n",
      "    ============================= ==== ===== ======= =====\n",
      "\n",
      "    :Missing Attribute Values: None\n",
      "    :Class Distribution: class_0 (59), class_1 (71), class_2 (48)\n",
      "    :Creator: R.A. Fisher\n",
      "    :Donor: Michael Marshall (MARSHALL%PLU@io.arc.nasa.gov)\n",
      "    :Date: July, 1988\n",
      "\n",
      "This is a copy of UCI ML Wine recognition datasets.\n",
      "https://archive.ics.uci.edu/ml/machine-learning-databases/wine/wine.data\n",
      "\n",
      "The data is the results of a chemical analysis of wines grown in the same\n",
      "region in Italy by three different cultivators. There are thirteen different\n",
      "measurements taken for different constituents found in the three types of\n",
      "wine.\n",
      "\n",
      "Original Owners: \n",
      "\n",
      "Forina, M. et al, PARVUS - \n",
      "An Extendible Package for Data Exploration, Classification and Correlation. \n",
      "Institute of Pharmaceutical and Food Analysis and Technologies,\n",
      "Via Brigata Salerno, 16147 Genoa, Italy.\n",
      "\n",
      "Citation:\n",
      "\n",
      "Lichman, M. (2013). UCI Machine Learning Repository\n",
      "[https://archive.ics.uci.edu/ml]. Irvine, CA: University of California,\n",
      "School of Information and Computer Science. \n",
      "\n",
      ".. topic:: References\n",
      "\n",
      "  (1) S. Aeberhard, D. Coomans and O. de Vel, \n",
      "  Comparison of Classifiers in High Dimensional Settings, \n",
      "  Tech. Rep. no. 92-02, (1992), Dept. of Computer Science and Dept. of  \n",
      "  Mathematics and Statistics, James Cook University of North Queensland. \n",
      "  (Also submitted to Technometrics). \n",
      "\n",
      "  The data was used with many others for comparing various \n",
      "  classifiers. The classes are separable, though only RDA \n",
      "  has achieved 100% correct classification. \n",
      "  (RDA : 100%, QDA 99.4%, LDA 98.9%, 1NN 96.1% (z-transformed data)) \n",
      "  (All results using the leave-one-out technique) \n",
      "\n",
      "  (2) S. Aeberhard, D. Coomans and O. de Vel, \n",
      "  \"THE CLASSIFICATION PERFORMANCE OF RDA\" \n",
      "  Tech. Rep. no. 92-01, (1992), Dept. of Computer Science and Dept. of \n",
      "  Mathematics and Statistics, James Cook University of North Queensland. \n",
      "  (Also submitted to Journal of Chemometrics).\n",
      "\n"
     ]
    }
   ],
   "source": [
    "print(data['DESCR'])"
   ],
   "metadata": {
    "collapsed": false,
    "pycharm": {
     "name": "#%%\n"
    }
   }
  },
  {
   "cell_type": "code",
   "execution_count": 5,
   "outputs": [
    {
     "name": "stdout",
     "output_type": "stream",
     "text": [
      "Всего классов 3,\n",
      "Классы имеют название:\n",
      "['class_0' 'class_1' 'class_2']\n"
     ]
    }
   ],
   "source": [
    "target_names = data['target_names']\n",
    "print(f'Всего классов {len(target_names)},\\nКлассы имеют название:\\n{target_names}')"
   ],
   "metadata": {
    "collapsed": false,
    "pycharm": {
     "name": "#%%\n"
    }
   }
  },
  {
   "cell_type": "code",
   "execution_count": 6,
   "outputs": [
    {
     "data": {
      "text/plain": "   alcohol  malic_acid   ash  alcalinity_of_ash  magnesium  total_phenols  \\\n0    14.23        1.71  2.43               15.6      127.0           2.80   \n1    13.20        1.78  2.14               11.2      100.0           2.65   \n2    13.16        2.36  2.67               18.6      101.0           2.80   \n3    14.37        1.95  2.50               16.8      113.0           3.85   \n4    13.24        2.59  2.87               21.0      118.0           2.80   \n\n   flavanoids  nonflavanoid_phenols  proanthocyanins  color_intensity   hue  \\\n0        3.06                  0.28             2.29             5.64  1.04   \n1        2.76                  0.26             1.28             4.38  1.05   \n2        3.24                  0.30             2.81             5.68  1.03   \n3        3.49                  0.24             2.18             7.80  0.86   \n4        2.69                  0.39             1.82             4.32  1.04   \n\n   od280/od315_of_diluted_wines  proline  \n0                          3.92   1065.0  \n1                          3.40   1050.0  \n2                          3.17   1185.0  \n3                          3.45   1480.0  \n4                          2.93    735.0  ",
      "text/html": "<div>\n<style scoped>\n    .dataframe tbody tr th:only-of-type {\n        vertical-align: middle;\n    }\n\n    .dataframe tbody tr th {\n        vertical-align: top;\n    }\n\n    .dataframe thead th {\n        text-align: right;\n    }\n</style>\n<table border=\"1\" class=\"dataframe\">\n  <thead>\n    <tr style=\"text-align: right;\">\n      <th></th>\n      <th>alcohol</th>\n      <th>malic_acid</th>\n      <th>ash</th>\n      <th>alcalinity_of_ash</th>\n      <th>magnesium</th>\n      <th>total_phenols</th>\n      <th>flavanoids</th>\n      <th>nonflavanoid_phenols</th>\n      <th>proanthocyanins</th>\n      <th>color_intensity</th>\n      <th>hue</th>\n      <th>od280/od315_of_diluted_wines</th>\n      <th>proline</th>\n    </tr>\n  </thead>\n  <tbody>\n    <tr>\n      <th>0</th>\n      <td>14.23</td>\n      <td>1.71</td>\n      <td>2.43</td>\n      <td>15.6</td>\n      <td>127.0</td>\n      <td>2.80</td>\n      <td>3.06</td>\n      <td>0.28</td>\n      <td>2.29</td>\n      <td>5.64</td>\n      <td>1.04</td>\n      <td>3.92</td>\n      <td>1065.0</td>\n    </tr>\n    <tr>\n      <th>1</th>\n      <td>13.20</td>\n      <td>1.78</td>\n      <td>2.14</td>\n      <td>11.2</td>\n      <td>100.0</td>\n      <td>2.65</td>\n      <td>2.76</td>\n      <td>0.26</td>\n      <td>1.28</td>\n      <td>4.38</td>\n      <td>1.05</td>\n      <td>3.40</td>\n      <td>1050.0</td>\n    </tr>\n    <tr>\n      <th>2</th>\n      <td>13.16</td>\n      <td>2.36</td>\n      <td>2.67</td>\n      <td>18.6</td>\n      <td>101.0</td>\n      <td>2.80</td>\n      <td>3.24</td>\n      <td>0.30</td>\n      <td>2.81</td>\n      <td>5.68</td>\n      <td>1.03</td>\n      <td>3.17</td>\n      <td>1185.0</td>\n    </tr>\n    <tr>\n      <th>3</th>\n      <td>14.37</td>\n      <td>1.95</td>\n      <td>2.50</td>\n      <td>16.8</td>\n      <td>113.0</td>\n      <td>3.85</td>\n      <td>3.49</td>\n      <td>0.24</td>\n      <td>2.18</td>\n      <td>7.80</td>\n      <td>0.86</td>\n      <td>3.45</td>\n      <td>1480.0</td>\n    </tr>\n    <tr>\n      <th>4</th>\n      <td>13.24</td>\n      <td>2.59</td>\n      <td>2.87</td>\n      <td>21.0</td>\n      <td>118.0</td>\n      <td>2.80</td>\n      <td>2.69</td>\n      <td>0.39</td>\n      <td>1.82</td>\n      <td>4.32</td>\n      <td>1.04</td>\n      <td>2.93</td>\n      <td>735.0</td>\n    </tr>\n  </tbody>\n</table>\n</div>"
     },
     "execution_count": 6,
     "metadata": {},
     "output_type": "execute_result"
    }
   ],
   "source": [
    "X = pd.DataFrame(data['data'], columns=data['feature_names'])\n",
    "X.head()"
   ],
   "metadata": {
    "collapsed": false,
    "pycharm": {
     "name": "#%%\n"
    }
   }
  },
  {
   "cell_type": "code",
   "execution_count": 7,
   "outputs": [
    {
     "data": {
      "text/plain": "(178, 13)"
     },
     "execution_count": 7,
     "metadata": {},
     "output_type": "execute_result"
    }
   ],
   "source": [
    "X.shape"
   ],
   "metadata": {
    "collapsed": false,
    "pycharm": {
     "name": "#%%\n"
    }
   }
  },
  {
   "cell_type": "code",
   "execution_count": 8,
   "outputs": [
    {
     "name": "stdout",
     "output_type": "stream",
     "text": [
      "<class 'pandas.core.frame.DataFrame'>\n",
      "RangeIndex: 178 entries, 0 to 177\n",
      "Data columns (total 13 columns):\n",
      " #   Column                        Non-Null Count  Dtype  \n",
      "---  ------                        --------------  -----  \n",
      " 0   alcohol                       178 non-null    float64\n",
      " 1   malic_acid                    178 non-null    float64\n",
      " 2   ash                           178 non-null    float64\n",
      " 3   alcalinity_of_ash             178 non-null    float64\n",
      " 4   magnesium                     178 non-null    float64\n",
      " 5   total_phenols                 178 non-null    float64\n",
      " 6   flavanoids                    178 non-null    float64\n",
      " 7   nonflavanoid_phenols          178 non-null    float64\n",
      " 8   proanthocyanins               178 non-null    float64\n",
      " 9   color_intensity               178 non-null    float64\n",
      " 10  hue                           178 non-null    float64\n",
      " 11  od280/od315_of_diluted_wines  178 non-null    float64\n",
      " 12  proline                       178 non-null    float64\n",
      "dtypes: float64(13)\n",
      "memory usage: 18.2 KB\n"
     ]
    }
   ],
   "source": [
    "X.info()"
   ],
   "metadata": {
    "collapsed": false,
    "pycharm": {
     "name": "#%%\n"
    }
   }
  },
  {
   "cell_type": "markdown",
   "source": [
    "Нет пропущенных значений!"
   ],
   "metadata": {
    "collapsed": false,
    "pycharm": {
     "name": "#%% md\n"
    }
   }
  },
  {
   "cell_type": "code",
   "execution_count": 9,
   "outputs": [
    {
     "data": {
      "text/plain": "                               alcohol  malic_acid       ash  \\\nalcohol                       1.000000    0.094397  0.211545   \nmalic_acid                    0.094397    1.000000  0.164045   \nash                           0.211545    0.164045  1.000000   \nalcalinity_of_ash            -0.310235    0.288500  0.443367   \nmagnesium                     0.270798   -0.054575  0.286587   \ntotal_phenols                 0.289101   -0.335167  0.128980   \nflavanoids                    0.236815   -0.411007  0.115077   \nnonflavanoid_phenols         -0.155929    0.292977  0.186230   \nproanthocyanins               0.136698   -0.220746  0.009652   \ncolor_intensity               0.546364    0.248985  0.258887   \nhue                          -0.071747   -0.561296 -0.074667   \nod280/od315_of_diluted_wines  0.072343   -0.368710  0.003911   \nproline                       0.643720   -0.192011  0.223626   \ntarget                       -0.328222    0.437776 -0.049643   \n\n                              alcalinity_of_ash  magnesium  total_phenols  \\\nalcohol                               -0.310235   0.270798       0.289101   \nmalic_acid                             0.288500  -0.054575      -0.335167   \nash                                    0.443367   0.286587       0.128980   \nalcalinity_of_ash                      1.000000  -0.083333      -0.321113   \nmagnesium                             -0.083333   1.000000       0.214401   \ntotal_phenols                         -0.321113   0.214401       1.000000   \nflavanoids                            -0.351370   0.195784       0.864564   \nnonflavanoid_phenols                   0.361922  -0.256294      -0.449935   \nproanthocyanins                       -0.197327   0.236441       0.612413   \ncolor_intensity                        0.018732   0.199950      -0.055136   \nhue                                   -0.273955   0.055398       0.433681   \nod280/od315_of_diluted_wines          -0.276769   0.066004       0.699949   \nproline                               -0.440597   0.393351       0.498115   \ntarget                                 0.517859  -0.209179      -0.719163   \n\n                              flavanoids  nonflavanoid_phenols  \\\nalcohol                         0.236815             -0.155929   \nmalic_acid                     -0.411007              0.292977   \nash                             0.115077              0.186230   \nalcalinity_of_ash              -0.351370              0.361922   \nmagnesium                       0.195784             -0.256294   \ntotal_phenols                   0.864564             -0.449935   \nflavanoids                      1.000000             -0.537900   \nnonflavanoid_phenols           -0.537900              1.000000   \nproanthocyanins                 0.652692             -0.365845   \ncolor_intensity                -0.172379              0.139057   \nhue                             0.543479             -0.262640   \nod280/od315_of_diluted_wines    0.787194             -0.503270   \nproline                         0.494193             -0.311385   \ntarget                         -0.847498              0.489109   \n\n                              proanthocyanins  color_intensity       hue  \\\nalcohol                              0.136698         0.546364 -0.071747   \nmalic_acid                          -0.220746         0.248985 -0.561296   \nash                                  0.009652         0.258887 -0.074667   \nalcalinity_of_ash                   -0.197327         0.018732 -0.273955   \nmagnesium                            0.236441         0.199950  0.055398   \ntotal_phenols                        0.612413        -0.055136  0.433681   \nflavanoids                           0.652692        -0.172379  0.543479   \nnonflavanoid_phenols                -0.365845         0.139057 -0.262640   \nproanthocyanins                      1.000000        -0.025250  0.295544   \ncolor_intensity                     -0.025250         1.000000 -0.521813   \nhue                                  0.295544        -0.521813  1.000000   \nod280/od315_of_diluted_wines         0.519067        -0.428815  0.565468   \nproline                              0.330417         0.316100  0.236183   \ntarget                              -0.499130         0.265668 -0.617369   \n\n                              od280/od315_of_diluted_wines   proline    target  \nalcohol                                           0.072343  0.643720 -0.328222  \nmalic_acid                                       -0.368710 -0.192011  0.437776  \nash                                               0.003911  0.223626 -0.049643  \nalcalinity_of_ash                                -0.276769 -0.440597  0.517859  \nmagnesium                                         0.066004  0.393351 -0.209179  \ntotal_phenols                                     0.699949  0.498115 -0.719163  \nflavanoids                                        0.787194  0.494193 -0.847498  \nnonflavanoid_phenols                             -0.503270 -0.311385  0.489109  \nproanthocyanins                                   0.519067  0.330417 -0.499130  \ncolor_intensity                                  -0.428815  0.316100  0.265668  \nhue                                               0.565468  0.236183 -0.617369  \nod280/od315_of_diluted_wines                      1.000000  0.312761 -0.788230  \nproline                                           0.312761  1.000000 -0.633717  \ntarget                                           -0.788230 -0.633717  1.000000  ",
      "text/html": "<div>\n<style scoped>\n    .dataframe tbody tr th:only-of-type {\n        vertical-align: middle;\n    }\n\n    .dataframe tbody tr th {\n        vertical-align: top;\n    }\n\n    .dataframe thead th {\n        text-align: right;\n    }\n</style>\n<table border=\"1\" class=\"dataframe\">\n  <thead>\n    <tr style=\"text-align: right;\">\n      <th></th>\n      <th>alcohol</th>\n      <th>malic_acid</th>\n      <th>ash</th>\n      <th>alcalinity_of_ash</th>\n      <th>magnesium</th>\n      <th>total_phenols</th>\n      <th>flavanoids</th>\n      <th>nonflavanoid_phenols</th>\n      <th>proanthocyanins</th>\n      <th>color_intensity</th>\n      <th>hue</th>\n      <th>od280/od315_of_diluted_wines</th>\n      <th>proline</th>\n      <th>target</th>\n    </tr>\n  </thead>\n  <tbody>\n    <tr>\n      <th>alcohol</th>\n      <td>1.000000</td>\n      <td>0.094397</td>\n      <td>0.211545</td>\n      <td>-0.310235</td>\n      <td>0.270798</td>\n      <td>0.289101</td>\n      <td>0.236815</td>\n      <td>-0.155929</td>\n      <td>0.136698</td>\n      <td>0.546364</td>\n      <td>-0.071747</td>\n      <td>0.072343</td>\n      <td>0.643720</td>\n      <td>-0.328222</td>\n    </tr>\n    <tr>\n      <th>malic_acid</th>\n      <td>0.094397</td>\n      <td>1.000000</td>\n      <td>0.164045</td>\n      <td>0.288500</td>\n      <td>-0.054575</td>\n      <td>-0.335167</td>\n      <td>-0.411007</td>\n      <td>0.292977</td>\n      <td>-0.220746</td>\n      <td>0.248985</td>\n      <td>-0.561296</td>\n      <td>-0.368710</td>\n      <td>-0.192011</td>\n      <td>0.437776</td>\n    </tr>\n    <tr>\n      <th>ash</th>\n      <td>0.211545</td>\n      <td>0.164045</td>\n      <td>1.000000</td>\n      <td>0.443367</td>\n      <td>0.286587</td>\n      <td>0.128980</td>\n      <td>0.115077</td>\n      <td>0.186230</td>\n      <td>0.009652</td>\n      <td>0.258887</td>\n      <td>-0.074667</td>\n      <td>0.003911</td>\n      <td>0.223626</td>\n      <td>-0.049643</td>\n    </tr>\n    <tr>\n      <th>alcalinity_of_ash</th>\n      <td>-0.310235</td>\n      <td>0.288500</td>\n      <td>0.443367</td>\n      <td>1.000000</td>\n      <td>-0.083333</td>\n      <td>-0.321113</td>\n      <td>-0.351370</td>\n      <td>0.361922</td>\n      <td>-0.197327</td>\n      <td>0.018732</td>\n      <td>-0.273955</td>\n      <td>-0.276769</td>\n      <td>-0.440597</td>\n      <td>0.517859</td>\n    </tr>\n    <tr>\n      <th>magnesium</th>\n      <td>0.270798</td>\n      <td>-0.054575</td>\n      <td>0.286587</td>\n      <td>-0.083333</td>\n      <td>1.000000</td>\n      <td>0.214401</td>\n      <td>0.195784</td>\n      <td>-0.256294</td>\n      <td>0.236441</td>\n      <td>0.199950</td>\n      <td>0.055398</td>\n      <td>0.066004</td>\n      <td>0.393351</td>\n      <td>-0.209179</td>\n    </tr>\n    <tr>\n      <th>total_phenols</th>\n      <td>0.289101</td>\n      <td>-0.335167</td>\n      <td>0.128980</td>\n      <td>-0.321113</td>\n      <td>0.214401</td>\n      <td>1.000000</td>\n      <td>0.864564</td>\n      <td>-0.449935</td>\n      <td>0.612413</td>\n      <td>-0.055136</td>\n      <td>0.433681</td>\n      <td>0.699949</td>\n      <td>0.498115</td>\n      <td>-0.719163</td>\n    </tr>\n    <tr>\n      <th>flavanoids</th>\n      <td>0.236815</td>\n      <td>-0.411007</td>\n      <td>0.115077</td>\n      <td>-0.351370</td>\n      <td>0.195784</td>\n      <td>0.864564</td>\n      <td>1.000000</td>\n      <td>-0.537900</td>\n      <td>0.652692</td>\n      <td>-0.172379</td>\n      <td>0.543479</td>\n      <td>0.787194</td>\n      <td>0.494193</td>\n      <td>-0.847498</td>\n    </tr>\n    <tr>\n      <th>nonflavanoid_phenols</th>\n      <td>-0.155929</td>\n      <td>0.292977</td>\n      <td>0.186230</td>\n      <td>0.361922</td>\n      <td>-0.256294</td>\n      <td>-0.449935</td>\n      <td>-0.537900</td>\n      <td>1.000000</td>\n      <td>-0.365845</td>\n      <td>0.139057</td>\n      <td>-0.262640</td>\n      <td>-0.503270</td>\n      <td>-0.311385</td>\n      <td>0.489109</td>\n    </tr>\n    <tr>\n      <th>proanthocyanins</th>\n      <td>0.136698</td>\n      <td>-0.220746</td>\n      <td>0.009652</td>\n      <td>-0.197327</td>\n      <td>0.236441</td>\n      <td>0.612413</td>\n      <td>0.652692</td>\n      <td>-0.365845</td>\n      <td>1.000000</td>\n      <td>-0.025250</td>\n      <td>0.295544</td>\n      <td>0.519067</td>\n      <td>0.330417</td>\n      <td>-0.499130</td>\n    </tr>\n    <tr>\n      <th>color_intensity</th>\n      <td>0.546364</td>\n      <td>0.248985</td>\n      <td>0.258887</td>\n      <td>0.018732</td>\n      <td>0.199950</td>\n      <td>-0.055136</td>\n      <td>-0.172379</td>\n      <td>0.139057</td>\n      <td>-0.025250</td>\n      <td>1.000000</td>\n      <td>-0.521813</td>\n      <td>-0.428815</td>\n      <td>0.316100</td>\n      <td>0.265668</td>\n    </tr>\n    <tr>\n      <th>hue</th>\n      <td>-0.071747</td>\n      <td>-0.561296</td>\n      <td>-0.074667</td>\n      <td>-0.273955</td>\n      <td>0.055398</td>\n      <td>0.433681</td>\n      <td>0.543479</td>\n      <td>-0.262640</td>\n      <td>0.295544</td>\n      <td>-0.521813</td>\n      <td>1.000000</td>\n      <td>0.565468</td>\n      <td>0.236183</td>\n      <td>-0.617369</td>\n    </tr>\n    <tr>\n      <th>od280/od315_of_diluted_wines</th>\n      <td>0.072343</td>\n      <td>-0.368710</td>\n      <td>0.003911</td>\n      <td>-0.276769</td>\n      <td>0.066004</td>\n      <td>0.699949</td>\n      <td>0.787194</td>\n      <td>-0.503270</td>\n      <td>0.519067</td>\n      <td>-0.428815</td>\n      <td>0.565468</td>\n      <td>1.000000</td>\n      <td>0.312761</td>\n      <td>-0.788230</td>\n    </tr>\n    <tr>\n      <th>proline</th>\n      <td>0.643720</td>\n      <td>-0.192011</td>\n      <td>0.223626</td>\n      <td>-0.440597</td>\n      <td>0.393351</td>\n      <td>0.498115</td>\n      <td>0.494193</td>\n      <td>-0.311385</td>\n      <td>0.330417</td>\n      <td>0.316100</td>\n      <td>0.236183</td>\n      <td>0.312761</td>\n      <td>1.000000</td>\n      <td>-0.633717</td>\n    </tr>\n    <tr>\n      <th>target</th>\n      <td>-0.328222</td>\n      <td>0.437776</td>\n      <td>-0.049643</td>\n      <td>0.517859</td>\n      <td>-0.209179</td>\n      <td>-0.719163</td>\n      <td>-0.847498</td>\n      <td>0.489109</td>\n      <td>-0.499130</td>\n      <td>0.265668</td>\n      <td>-0.617369</td>\n      <td>-0.788230</td>\n      <td>-0.633717</td>\n      <td>1.000000</td>\n    </tr>\n  </tbody>\n</table>\n</div>"
     },
     "execution_count": 9,
     "metadata": {},
     "output_type": "execute_result"
    }
   ],
   "source": [
    "X['target'] = data['target']\n",
    "X_corr = X.corr()\n",
    "X_corr"
   ],
   "metadata": {
    "collapsed": false,
    "pycharm": {
     "name": "#%%\n"
    }
   }
  },
  {
   "cell_type": "code",
   "execution_count": 10,
   "outputs": [
    {
     "data": {
      "text/plain": "                               alcohol  malic_acid       ash  \\\nalcalinity_of_ash            -0.310235    0.288500  0.443367   \ntotal_phenols                 0.289101   -0.335167  0.128980   \nflavanoids                    0.236815   -0.411007  0.115077   \nhue                          -0.071747   -0.561296 -0.074667   \nod280/od315_of_diluted_wines  0.072343   -0.368710  0.003911   \nproline                       0.643720   -0.192011  0.223626   \ntarget                       -0.328222    0.437776 -0.049643   \n\n                              alcalinity_of_ash  magnesium  total_phenols  \\\nalcalinity_of_ash                      1.000000  -0.083333      -0.321113   \ntotal_phenols                         -0.321113   0.214401       1.000000   \nflavanoids                            -0.351370   0.195784       0.864564   \nhue                                   -0.273955   0.055398       0.433681   \nod280/od315_of_diluted_wines          -0.276769   0.066004       0.699949   \nproline                               -0.440597   0.393351       0.498115   \ntarget                                 0.517859  -0.209179      -0.719163   \n\n                              flavanoids  nonflavanoid_phenols  \\\nalcalinity_of_ash              -0.351370              0.361922   \ntotal_phenols                   0.864564             -0.449935   \nflavanoids                      1.000000             -0.537900   \nhue                             0.543479             -0.262640   \nod280/od315_of_diluted_wines    0.787194             -0.503270   \nproline                         0.494193             -0.311385   \ntarget                         -0.847498              0.489109   \n\n                              proanthocyanins  color_intensity       hue  \\\nalcalinity_of_ash                   -0.197327         0.018732 -0.273955   \ntotal_phenols                        0.612413        -0.055136  0.433681   \nflavanoids                           0.652692        -0.172379  0.543479   \nhue                                  0.295544        -0.521813  1.000000   \nod280/od315_of_diluted_wines         0.519067        -0.428815  0.565468   \nproline                              0.330417         0.316100  0.236183   \ntarget                              -0.499130         0.265668 -0.617369   \n\n                              od280/od315_of_diluted_wines   proline    target  \nalcalinity_of_ash                                -0.276769 -0.440597  0.517859  \ntotal_phenols                                     0.699949  0.498115 -0.719163  \nflavanoids                                        0.787194  0.494193 -0.847498  \nhue                                               0.565468  0.236183 -0.617369  \nod280/od315_of_diluted_wines                      1.000000  0.312761 -0.788230  \nproline                                           0.312761  1.000000 -0.633717  \ntarget                                           -0.788230 -0.633717  1.000000  ",
      "text/html": "<div>\n<style scoped>\n    .dataframe tbody tr th:only-of-type {\n        vertical-align: middle;\n    }\n\n    .dataframe tbody tr th {\n        vertical-align: top;\n    }\n\n    .dataframe thead th {\n        text-align: right;\n    }\n</style>\n<table border=\"1\" class=\"dataframe\">\n  <thead>\n    <tr style=\"text-align: right;\">\n      <th></th>\n      <th>alcohol</th>\n      <th>malic_acid</th>\n      <th>ash</th>\n      <th>alcalinity_of_ash</th>\n      <th>magnesium</th>\n      <th>total_phenols</th>\n      <th>flavanoids</th>\n      <th>nonflavanoid_phenols</th>\n      <th>proanthocyanins</th>\n      <th>color_intensity</th>\n      <th>hue</th>\n      <th>od280/od315_of_diluted_wines</th>\n      <th>proline</th>\n      <th>target</th>\n    </tr>\n  </thead>\n  <tbody>\n    <tr>\n      <th>alcalinity_of_ash</th>\n      <td>-0.310235</td>\n      <td>0.288500</td>\n      <td>0.443367</td>\n      <td>1.000000</td>\n      <td>-0.083333</td>\n      <td>-0.321113</td>\n      <td>-0.351370</td>\n      <td>0.361922</td>\n      <td>-0.197327</td>\n      <td>0.018732</td>\n      <td>-0.273955</td>\n      <td>-0.276769</td>\n      <td>-0.440597</td>\n      <td>0.517859</td>\n    </tr>\n    <tr>\n      <th>total_phenols</th>\n      <td>0.289101</td>\n      <td>-0.335167</td>\n      <td>0.128980</td>\n      <td>-0.321113</td>\n      <td>0.214401</td>\n      <td>1.000000</td>\n      <td>0.864564</td>\n      <td>-0.449935</td>\n      <td>0.612413</td>\n      <td>-0.055136</td>\n      <td>0.433681</td>\n      <td>0.699949</td>\n      <td>0.498115</td>\n      <td>-0.719163</td>\n    </tr>\n    <tr>\n      <th>flavanoids</th>\n      <td>0.236815</td>\n      <td>-0.411007</td>\n      <td>0.115077</td>\n      <td>-0.351370</td>\n      <td>0.195784</td>\n      <td>0.864564</td>\n      <td>1.000000</td>\n      <td>-0.537900</td>\n      <td>0.652692</td>\n      <td>-0.172379</td>\n      <td>0.543479</td>\n      <td>0.787194</td>\n      <td>0.494193</td>\n      <td>-0.847498</td>\n    </tr>\n    <tr>\n      <th>hue</th>\n      <td>-0.071747</td>\n      <td>-0.561296</td>\n      <td>-0.074667</td>\n      <td>-0.273955</td>\n      <td>0.055398</td>\n      <td>0.433681</td>\n      <td>0.543479</td>\n      <td>-0.262640</td>\n      <td>0.295544</td>\n      <td>-0.521813</td>\n      <td>1.000000</td>\n      <td>0.565468</td>\n      <td>0.236183</td>\n      <td>-0.617369</td>\n    </tr>\n    <tr>\n      <th>od280/od315_of_diluted_wines</th>\n      <td>0.072343</td>\n      <td>-0.368710</td>\n      <td>0.003911</td>\n      <td>-0.276769</td>\n      <td>0.066004</td>\n      <td>0.699949</td>\n      <td>0.787194</td>\n      <td>-0.503270</td>\n      <td>0.519067</td>\n      <td>-0.428815</td>\n      <td>0.565468</td>\n      <td>1.000000</td>\n      <td>0.312761</td>\n      <td>-0.788230</td>\n    </tr>\n    <tr>\n      <th>proline</th>\n      <td>0.643720</td>\n      <td>-0.192011</td>\n      <td>0.223626</td>\n      <td>-0.440597</td>\n      <td>0.393351</td>\n      <td>0.498115</td>\n      <td>0.494193</td>\n      <td>-0.311385</td>\n      <td>0.330417</td>\n      <td>0.316100</td>\n      <td>0.236183</td>\n      <td>0.312761</td>\n      <td>1.000000</td>\n      <td>-0.633717</td>\n    </tr>\n    <tr>\n      <th>target</th>\n      <td>-0.328222</td>\n      <td>0.437776</td>\n      <td>-0.049643</td>\n      <td>0.517859</td>\n      <td>-0.209179</td>\n      <td>-0.719163</td>\n      <td>-0.847498</td>\n      <td>0.489109</td>\n      <td>-0.499130</td>\n      <td>0.265668</td>\n      <td>-0.617369</td>\n      <td>-0.788230</td>\n      <td>-0.633717</td>\n      <td>1.000000</td>\n    </tr>\n  </tbody>\n</table>\n</div>"
     },
     "execution_count": 10,
     "metadata": {},
     "output_type": "execute_result"
    }
   ],
   "source": [
    "X_corr.loc[np.abs(X_corr['target']) > 0.5]"
   ],
   "metadata": {
    "collapsed": false,
    "pycharm": {
     "name": "#%%\n"
    }
   }
  },
  {
   "cell_type": "code",
   "execution_count": 11,
   "outputs": [
    {
     "data": {
      "text/plain": "['alcalinity_of_ash',\n 'total_phenols',\n 'flavanoids',\n 'hue',\n 'od280/od315_of_diluted_wines',\n 'proline']"
     },
     "execution_count": 11,
     "metadata": {},
     "output_type": "execute_result"
    }
   ],
   "source": [
    "high_corr = list(X_corr.index[np.abs(X_corr['target']) > 0.5])\n",
    "high_corr.remove('target')\n",
    "high_corr"
   ],
   "metadata": {
    "collapsed": false,
    "pycharm": {
     "name": "#%%\n"
    }
   }
  },
  {
   "cell_type": "code",
   "execution_count": 12,
   "outputs": [
    {
     "data": {
      "text/plain": "   alcohol  malic_acid   ash  alcalinity_of_ash  magnesium  total_phenols  \\\n0    14.23        1.71  2.43               15.6      127.0           2.80   \n1    13.20        1.78  2.14               11.2      100.0           2.65   \n2    13.16        2.36  2.67               18.6      101.0           2.80   \n3    14.37        1.95  2.50               16.8      113.0           3.85   \n4    13.24        2.59  2.87               21.0      118.0           2.80   \n\n   flavanoids  nonflavanoid_phenols  proanthocyanins  color_intensity   hue  \\\n0        3.06                  0.28             2.29             5.64  1.04   \n1        2.76                  0.26             1.28             4.38  1.05   \n2        3.24                  0.30             2.81             5.68  1.03   \n3        3.49                  0.24             2.18             7.80  0.86   \n4        2.69                  0.39             1.82             4.32  1.04   \n\n   od280/od315_of_diluted_wines  proline  \n0                          3.92   1065.0  \n1                          3.40   1050.0  \n2                          3.17   1185.0  \n3                          3.45   1480.0  \n4                          2.93    735.0  ",
      "text/html": "<div>\n<style scoped>\n    .dataframe tbody tr th:only-of-type {\n        vertical-align: middle;\n    }\n\n    .dataframe tbody tr th {\n        vertical-align: top;\n    }\n\n    .dataframe thead th {\n        text-align: right;\n    }\n</style>\n<table border=\"1\" class=\"dataframe\">\n  <thead>\n    <tr style=\"text-align: right;\">\n      <th></th>\n      <th>alcohol</th>\n      <th>malic_acid</th>\n      <th>ash</th>\n      <th>alcalinity_of_ash</th>\n      <th>magnesium</th>\n      <th>total_phenols</th>\n      <th>flavanoids</th>\n      <th>nonflavanoid_phenols</th>\n      <th>proanthocyanins</th>\n      <th>color_intensity</th>\n      <th>hue</th>\n      <th>od280/od315_of_diluted_wines</th>\n      <th>proline</th>\n    </tr>\n  </thead>\n  <tbody>\n    <tr>\n      <th>0</th>\n      <td>14.23</td>\n      <td>1.71</td>\n      <td>2.43</td>\n      <td>15.6</td>\n      <td>127.0</td>\n      <td>2.80</td>\n      <td>3.06</td>\n      <td>0.28</td>\n      <td>2.29</td>\n      <td>5.64</td>\n      <td>1.04</td>\n      <td>3.92</td>\n      <td>1065.0</td>\n    </tr>\n    <tr>\n      <th>1</th>\n      <td>13.20</td>\n      <td>1.78</td>\n      <td>2.14</td>\n      <td>11.2</td>\n      <td>100.0</td>\n      <td>2.65</td>\n      <td>2.76</td>\n      <td>0.26</td>\n      <td>1.28</td>\n      <td>4.38</td>\n      <td>1.05</td>\n      <td>3.40</td>\n      <td>1050.0</td>\n    </tr>\n    <tr>\n      <th>2</th>\n      <td>13.16</td>\n      <td>2.36</td>\n      <td>2.67</td>\n      <td>18.6</td>\n      <td>101.0</td>\n      <td>2.80</td>\n      <td>3.24</td>\n      <td>0.30</td>\n      <td>2.81</td>\n      <td>5.68</td>\n      <td>1.03</td>\n      <td>3.17</td>\n      <td>1185.0</td>\n    </tr>\n    <tr>\n      <th>3</th>\n      <td>14.37</td>\n      <td>1.95</td>\n      <td>2.50</td>\n      <td>16.8</td>\n      <td>113.0</td>\n      <td>3.85</td>\n      <td>3.49</td>\n      <td>0.24</td>\n      <td>2.18</td>\n      <td>7.80</td>\n      <td>0.86</td>\n      <td>3.45</td>\n      <td>1480.0</td>\n    </tr>\n    <tr>\n      <th>4</th>\n      <td>13.24</td>\n      <td>2.59</td>\n      <td>2.87</td>\n      <td>21.0</td>\n      <td>118.0</td>\n      <td>2.80</td>\n      <td>2.69</td>\n      <td>0.39</td>\n      <td>1.82</td>\n      <td>4.32</td>\n      <td>1.04</td>\n      <td>2.93</td>\n      <td>735.0</td>\n    </tr>\n  </tbody>\n</table>\n</div>"
     },
     "execution_count": 12,
     "metadata": {},
     "output_type": "execute_result"
    }
   ],
   "source": [
    "X.drop('target', axis=1, inplace=True)\n",
    "X.head()"
   ],
   "metadata": {
    "collapsed": false,
    "pycharm": {
     "name": "#%%\n"
    }
   }
  },
  {
   "cell_type": "code",
   "execution_count": 13,
   "outputs": [
    {
     "data": {
      "text/plain": "   alcohol  malic_acid   ash  alcalinity_of_ash  magnesium  total_phenols  \\\n0    14.23        1.71  2.43               15.6      127.0           2.80   \n1    13.20        1.78  2.14               11.2      100.0           2.65   \n2    13.16        2.36  2.67               18.6      101.0           2.80   \n3    14.37        1.95  2.50               16.8      113.0           3.85   \n4    13.24        2.59  2.87               21.0      118.0           2.80   \n\n   flavanoids  nonflavanoid_phenols  proanthocyanins  color_intensity   hue  \\\n0        3.06                  0.28             2.29             5.64  1.04   \n1        2.76                  0.26             1.28             4.38  1.05   \n2        3.24                  0.30             2.81             5.68  1.03   \n3        3.49                  0.24             2.18             7.80  0.86   \n4        2.69                  0.39             1.82             4.32  1.04   \n\n   od280/od315_of_diluted_wines  proline  alcalinity_of_ash_2  \\\n0                          3.92   1065.0               243.36   \n1                          3.40   1050.0               125.44   \n2                          3.17   1185.0               345.96   \n3                          3.45   1480.0               282.24   \n4                          2.93    735.0               441.00   \n\n   total_phenols_2  flavanoids_2   hue_2  od280/od315_of_diluted_wines_2  \\\n0           7.8400        9.3636  1.0816                         15.3664   \n1           7.0225        7.6176  1.1025                         11.5600   \n2           7.8400       10.4976  1.0609                         10.0489   \n3          14.8225       12.1801  0.7396                         11.9025   \n4           7.8400        7.2361  1.0816                          8.5849   \n\n   proline_2  \n0  1134225.0  \n1  1102500.0  \n2  1404225.0  \n3  2190400.0  \n4   540225.0  ",
      "text/html": "<div>\n<style scoped>\n    .dataframe tbody tr th:only-of-type {\n        vertical-align: middle;\n    }\n\n    .dataframe tbody tr th {\n        vertical-align: top;\n    }\n\n    .dataframe thead th {\n        text-align: right;\n    }\n</style>\n<table border=\"1\" class=\"dataframe\">\n  <thead>\n    <tr style=\"text-align: right;\">\n      <th></th>\n      <th>alcohol</th>\n      <th>malic_acid</th>\n      <th>ash</th>\n      <th>alcalinity_of_ash</th>\n      <th>magnesium</th>\n      <th>total_phenols</th>\n      <th>flavanoids</th>\n      <th>nonflavanoid_phenols</th>\n      <th>proanthocyanins</th>\n      <th>color_intensity</th>\n      <th>hue</th>\n      <th>od280/od315_of_diluted_wines</th>\n      <th>proline</th>\n      <th>alcalinity_of_ash_2</th>\n      <th>total_phenols_2</th>\n      <th>flavanoids_2</th>\n      <th>hue_2</th>\n      <th>od280/od315_of_diluted_wines_2</th>\n      <th>proline_2</th>\n    </tr>\n  </thead>\n  <tbody>\n    <tr>\n      <th>0</th>\n      <td>14.23</td>\n      <td>1.71</td>\n      <td>2.43</td>\n      <td>15.6</td>\n      <td>127.0</td>\n      <td>2.80</td>\n      <td>3.06</td>\n      <td>0.28</td>\n      <td>2.29</td>\n      <td>5.64</td>\n      <td>1.04</td>\n      <td>3.92</td>\n      <td>1065.0</td>\n      <td>243.36</td>\n      <td>7.8400</td>\n      <td>9.3636</td>\n      <td>1.0816</td>\n      <td>15.3664</td>\n      <td>1134225.0</td>\n    </tr>\n    <tr>\n      <th>1</th>\n      <td>13.20</td>\n      <td>1.78</td>\n      <td>2.14</td>\n      <td>11.2</td>\n      <td>100.0</td>\n      <td>2.65</td>\n      <td>2.76</td>\n      <td>0.26</td>\n      <td>1.28</td>\n      <td>4.38</td>\n      <td>1.05</td>\n      <td>3.40</td>\n      <td>1050.0</td>\n      <td>125.44</td>\n      <td>7.0225</td>\n      <td>7.6176</td>\n      <td>1.1025</td>\n      <td>11.5600</td>\n      <td>1102500.0</td>\n    </tr>\n    <tr>\n      <th>2</th>\n      <td>13.16</td>\n      <td>2.36</td>\n      <td>2.67</td>\n      <td>18.6</td>\n      <td>101.0</td>\n      <td>2.80</td>\n      <td>3.24</td>\n      <td>0.30</td>\n      <td>2.81</td>\n      <td>5.68</td>\n      <td>1.03</td>\n      <td>3.17</td>\n      <td>1185.0</td>\n      <td>345.96</td>\n      <td>7.8400</td>\n      <td>10.4976</td>\n      <td>1.0609</td>\n      <td>10.0489</td>\n      <td>1404225.0</td>\n    </tr>\n    <tr>\n      <th>3</th>\n      <td>14.37</td>\n      <td>1.95</td>\n      <td>2.50</td>\n      <td>16.8</td>\n      <td>113.0</td>\n      <td>3.85</td>\n      <td>3.49</td>\n      <td>0.24</td>\n      <td>2.18</td>\n      <td>7.80</td>\n      <td>0.86</td>\n      <td>3.45</td>\n      <td>1480.0</td>\n      <td>282.24</td>\n      <td>14.8225</td>\n      <td>12.1801</td>\n      <td>0.7396</td>\n      <td>11.9025</td>\n      <td>2190400.0</td>\n    </tr>\n    <tr>\n      <th>4</th>\n      <td>13.24</td>\n      <td>2.59</td>\n      <td>2.87</td>\n      <td>21.0</td>\n      <td>118.0</td>\n      <td>2.80</td>\n      <td>2.69</td>\n      <td>0.39</td>\n      <td>1.82</td>\n      <td>4.32</td>\n      <td>1.04</td>\n      <td>2.93</td>\n      <td>735.0</td>\n      <td>441.00</td>\n      <td>7.8400</td>\n      <td>7.2361</td>\n      <td>1.0816</td>\n      <td>8.5849</td>\n      <td>540225.0</td>\n    </tr>\n  </tbody>\n</table>\n</div>"
     },
     "execution_count": 13,
     "metadata": {},
     "output_type": "execute_result"
    }
   ],
   "source": [
    "X_copy = X[high_corr].copy()\n",
    "X_copy = X_copy ** 2\n",
    "X_new = X.join(X_copy, on=None, how='left', rsuffix='_2', sort=True)\n",
    "X_new.head()"
   ],
   "metadata": {
    "collapsed": false,
    "pycharm": {
     "name": "#%%\n"
    }
   }
  },
  {
   "cell_type": "code",
   "execution_count": 17,
   "outputs": [
    {
     "data": {
      "text/plain": "   alcalinity_of_ash  alcalinity_of_ash_2  alcohol   ash  color_intensity  \\\n0               15.6               243.36    14.23  2.43             5.64   \n1               11.2               125.44    13.20  2.14             4.38   \n2               18.6               345.96    13.16  2.67             5.68   \n3               16.8               282.24    14.37  2.50             7.80   \n4               21.0               441.00    13.24  2.87             4.32   \n\n   flavanoids  flavanoids_2   hue   hue_2  magnesium  malic_acid  \\\n0        3.06        9.3636  1.04  1.0816      127.0        1.71   \n1        2.76        7.6176  1.05  1.1025      100.0        1.78   \n2        3.24       10.4976  1.03  1.0609      101.0        2.36   \n3        3.49       12.1801  0.86  0.7396      113.0        1.95   \n4        2.69        7.2361  1.04  1.0816      118.0        2.59   \n\n   nonflavanoid_phenols  od280/od315_of_diluted_wines  \\\n0                  0.28                          3.92   \n1                  0.26                          3.40   \n2                  0.30                          3.17   \n3                  0.24                          3.45   \n4                  0.39                          2.93   \n\n   od280/od315_of_diluted_wines_2  proanthocyanins  proline  proline_2  \\\n0                         15.3664             2.29   1065.0  1134225.0   \n1                         11.5600             1.28   1050.0  1102500.0   \n2                         10.0489             2.81   1185.0  1404225.0   \n3                         11.9025             2.18   1480.0  2190400.0   \n4                          8.5849             1.82    735.0   540225.0   \n\n   total_phenols  total_phenols_2  \n0           2.80           7.8400  \n1           2.65           7.0225  \n2           2.80           7.8400  \n3           3.85          14.8225  \n4           2.80           7.8400  ",
      "text/html": "<div>\n<style scoped>\n    .dataframe tbody tr th:only-of-type {\n        vertical-align: middle;\n    }\n\n    .dataframe tbody tr th {\n        vertical-align: top;\n    }\n\n    .dataframe thead th {\n        text-align: right;\n    }\n</style>\n<table border=\"1\" class=\"dataframe\">\n  <thead>\n    <tr style=\"text-align: right;\">\n      <th></th>\n      <th>alcalinity_of_ash</th>\n      <th>alcalinity_of_ash_2</th>\n      <th>alcohol</th>\n      <th>ash</th>\n      <th>color_intensity</th>\n      <th>flavanoids</th>\n      <th>flavanoids_2</th>\n      <th>hue</th>\n      <th>hue_2</th>\n      <th>magnesium</th>\n      <th>malic_acid</th>\n      <th>nonflavanoid_phenols</th>\n      <th>od280/od315_of_diluted_wines</th>\n      <th>od280/od315_of_diluted_wines_2</th>\n      <th>proanthocyanins</th>\n      <th>proline</th>\n      <th>proline_2</th>\n      <th>total_phenols</th>\n      <th>total_phenols_2</th>\n    </tr>\n  </thead>\n  <tbody>\n    <tr>\n      <th>0</th>\n      <td>15.6</td>\n      <td>243.36</td>\n      <td>14.23</td>\n      <td>2.43</td>\n      <td>5.64</td>\n      <td>3.06</td>\n      <td>9.3636</td>\n      <td>1.04</td>\n      <td>1.0816</td>\n      <td>127.0</td>\n      <td>1.71</td>\n      <td>0.28</td>\n      <td>3.92</td>\n      <td>15.3664</td>\n      <td>2.29</td>\n      <td>1065.0</td>\n      <td>1134225.0</td>\n      <td>2.80</td>\n      <td>7.8400</td>\n    </tr>\n    <tr>\n      <th>1</th>\n      <td>11.2</td>\n      <td>125.44</td>\n      <td>13.20</td>\n      <td>2.14</td>\n      <td>4.38</td>\n      <td>2.76</td>\n      <td>7.6176</td>\n      <td>1.05</td>\n      <td>1.1025</td>\n      <td>100.0</td>\n      <td>1.78</td>\n      <td>0.26</td>\n      <td>3.40</td>\n      <td>11.5600</td>\n      <td>1.28</td>\n      <td>1050.0</td>\n      <td>1102500.0</td>\n      <td>2.65</td>\n      <td>7.0225</td>\n    </tr>\n    <tr>\n      <th>2</th>\n      <td>18.6</td>\n      <td>345.96</td>\n      <td>13.16</td>\n      <td>2.67</td>\n      <td>5.68</td>\n      <td>3.24</td>\n      <td>10.4976</td>\n      <td>1.03</td>\n      <td>1.0609</td>\n      <td>101.0</td>\n      <td>2.36</td>\n      <td>0.30</td>\n      <td>3.17</td>\n      <td>10.0489</td>\n      <td>2.81</td>\n      <td>1185.0</td>\n      <td>1404225.0</td>\n      <td>2.80</td>\n      <td>7.8400</td>\n    </tr>\n    <tr>\n      <th>3</th>\n      <td>16.8</td>\n      <td>282.24</td>\n      <td>14.37</td>\n      <td>2.50</td>\n      <td>7.80</td>\n      <td>3.49</td>\n      <td>12.1801</td>\n      <td>0.86</td>\n      <td>0.7396</td>\n      <td>113.0</td>\n      <td>1.95</td>\n      <td>0.24</td>\n      <td>3.45</td>\n      <td>11.9025</td>\n      <td>2.18</td>\n      <td>1480.0</td>\n      <td>2190400.0</td>\n      <td>3.85</td>\n      <td>14.8225</td>\n    </tr>\n    <tr>\n      <th>4</th>\n      <td>21.0</td>\n      <td>441.00</td>\n      <td>13.24</td>\n      <td>2.87</td>\n      <td>4.32</td>\n      <td>2.69</td>\n      <td>7.2361</td>\n      <td>1.04</td>\n      <td>1.0816</td>\n      <td>118.0</td>\n      <td>2.59</td>\n      <td>0.39</td>\n      <td>2.93</td>\n      <td>8.5849</td>\n      <td>1.82</td>\n      <td>735.0</td>\n      <td>540225.0</td>\n      <td>2.80</td>\n      <td>7.8400</td>\n    </tr>\n  </tbody>\n</table>\n</div>"
     },
     "execution_count": 17,
     "metadata": {},
     "output_type": "execute_result"
    }
   ],
   "source": [
    "X_new.sort_index(axis=1, inplace=True)\n",
    "X_new.head()"
   ],
   "metadata": {
    "collapsed": false,
    "pycharm": {
     "name": "#%%\n"
    }
   }
  },
  {
   "cell_type": "code",
   "execution_count": 18,
   "outputs": [
    {
     "data": {
      "text/plain": "       alcalinity_of_ash  alcalinity_of_ash_2     alcohol         ash  \\\ncount         178.000000           178.000000  178.000000  178.000000   \nmean           19.494944           391.142865   13.000618    2.366517   \nstd             3.339564           133.671775    0.811827    0.274344   \nmin            10.600000           112.360000   11.030000    1.360000   \n25%            17.200000           295.840000   12.362500    2.210000   \n50%            19.500000           380.250000   13.050000    2.360000   \n75%            21.500000           462.250000   13.677500    2.557500   \nmax            30.000000           900.000000   14.830000    3.230000   \n\n       color_intensity  flavanoids  flavanoids_2         hue       hue_2  \\\ncount       178.000000  178.000000    178.000000  178.000000  178.000000   \nmean          5.058090    2.029270      5.110049    0.957449    0.968661   \nstd           2.318286    0.998859      4.211441    0.228572    0.443798   \nmin           1.280000    0.340000      0.115600    0.480000    0.230400   \n25%           3.220000    1.205000      1.452100    0.782500    0.612325   \n50%           4.690000    2.135000      4.558250    0.965000    0.931250   \n75%           6.200000    2.875000      8.265700    1.120000    1.254400   \nmax          13.000000    5.080000     25.806400    1.710000    2.924100   \n\n        magnesium  malic_acid  nonflavanoid_phenols  \\\ncount  178.000000  178.000000            178.000000   \nmean    99.741573    2.336348              0.361854   \nstd     14.282484    1.117146              0.124453   \nmin     70.000000    0.740000              0.130000   \n25%     88.000000    1.602500              0.270000   \n50%     98.000000    1.865000              0.340000   \n75%    107.000000    3.082500              0.437500   \nmax    162.000000    5.800000              0.660000   \n\n       od280/od315_of_diluted_wines  od280/od315_of_diluted_wines_2  \\\ncount                    178.000000                      178.000000   \nmean                       2.611685                        7.322155   \nstd                        0.709990                        3.584316   \nmin                        1.270000                        1.612900   \n25%                        1.937500                        3.754075   \n50%                        2.780000                        7.728400   \n75%                        3.170000                       10.048900   \nmax                        4.000000                       16.000000   \n\n       proanthocyanins      proline     proline_2  total_phenols  \\\ncount       178.000000   178.000000  1.780000e+02     178.000000   \nmean          1.590899   746.893258  6.564591e+05       2.295112   \nstd           0.572359   314.907474  5.558591e+05       0.625851   \nmin           0.410000   278.000000  7.728400e+04       0.980000   \n25%           1.250000   500.500000  2.505010e+05       1.742500   \n50%           1.555000   673.500000  4.536045e+05       2.355000   \n75%           1.950000   985.000000  9.702250e+05       2.800000   \nmax           3.580000  1680.000000  2.822400e+06       3.880000   \n\n       total_phenols_2  \ncount       178.000000  \nmean          5.657030  \nstd           2.936294  \nmin           0.960400  \n25%           3.036325  \n50%           5.546050  \n75%           7.840000  \nmax          15.054400  ",
      "text/html": "<div>\n<style scoped>\n    .dataframe tbody tr th:only-of-type {\n        vertical-align: middle;\n    }\n\n    .dataframe tbody tr th {\n        vertical-align: top;\n    }\n\n    .dataframe thead th {\n        text-align: right;\n    }\n</style>\n<table border=\"1\" class=\"dataframe\">\n  <thead>\n    <tr style=\"text-align: right;\">\n      <th></th>\n      <th>alcalinity_of_ash</th>\n      <th>alcalinity_of_ash_2</th>\n      <th>alcohol</th>\n      <th>ash</th>\n      <th>color_intensity</th>\n      <th>flavanoids</th>\n      <th>flavanoids_2</th>\n      <th>hue</th>\n      <th>hue_2</th>\n      <th>magnesium</th>\n      <th>malic_acid</th>\n      <th>nonflavanoid_phenols</th>\n      <th>od280/od315_of_diluted_wines</th>\n      <th>od280/od315_of_diluted_wines_2</th>\n      <th>proanthocyanins</th>\n      <th>proline</th>\n      <th>proline_2</th>\n      <th>total_phenols</th>\n      <th>total_phenols_2</th>\n    </tr>\n  </thead>\n  <tbody>\n    <tr>\n      <th>count</th>\n      <td>178.000000</td>\n      <td>178.000000</td>\n      <td>178.000000</td>\n      <td>178.000000</td>\n      <td>178.000000</td>\n      <td>178.000000</td>\n      <td>178.000000</td>\n      <td>178.000000</td>\n      <td>178.000000</td>\n      <td>178.000000</td>\n      <td>178.000000</td>\n      <td>178.000000</td>\n      <td>178.000000</td>\n      <td>178.000000</td>\n      <td>178.000000</td>\n      <td>178.000000</td>\n      <td>1.780000e+02</td>\n      <td>178.000000</td>\n      <td>178.000000</td>\n    </tr>\n    <tr>\n      <th>mean</th>\n      <td>19.494944</td>\n      <td>391.142865</td>\n      <td>13.000618</td>\n      <td>2.366517</td>\n      <td>5.058090</td>\n      <td>2.029270</td>\n      <td>5.110049</td>\n      <td>0.957449</td>\n      <td>0.968661</td>\n      <td>99.741573</td>\n      <td>2.336348</td>\n      <td>0.361854</td>\n      <td>2.611685</td>\n      <td>7.322155</td>\n      <td>1.590899</td>\n      <td>746.893258</td>\n      <td>6.564591e+05</td>\n      <td>2.295112</td>\n      <td>5.657030</td>\n    </tr>\n    <tr>\n      <th>std</th>\n      <td>3.339564</td>\n      <td>133.671775</td>\n      <td>0.811827</td>\n      <td>0.274344</td>\n      <td>2.318286</td>\n      <td>0.998859</td>\n      <td>4.211441</td>\n      <td>0.228572</td>\n      <td>0.443798</td>\n      <td>14.282484</td>\n      <td>1.117146</td>\n      <td>0.124453</td>\n      <td>0.709990</td>\n      <td>3.584316</td>\n      <td>0.572359</td>\n      <td>314.907474</td>\n      <td>5.558591e+05</td>\n      <td>0.625851</td>\n      <td>2.936294</td>\n    </tr>\n    <tr>\n      <th>min</th>\n      <td>10.600000</td>\n      <td>112.360000</td>\n      <td>11.030000</td>\n      <td>1.360000</td>\n      <td>1.280000</td>\n      <td>0.340000</td>\n      <td>0.115600</td>\n      <td>0.480000</td>\n      <td>0.230400</td>\n      <td>70.000000</td>\n      <td>0.740000</td>\n      <td>0.130000</td>\n      <td>1.270000</td>\n      <td>1.612900</td>\n      <td>0.410000</td>\n      <td>278.000000</td>\n      <td>7.728400e+04</td>\n      <td>0.980000</td>\n      <td>0.960400</td>\n    </tr>\n    <tr>\n      <th>25%</th>\n      <td>17.200000</td>\n      <td>295.840000</td>\n      <td>12.362500</td>\n      <td>2.210000</td>\n      <td>3.220000</td>\n      <td>1.205000</td>\n      <td>1.452100</td>\n      <td>0.782500</td>\n      <td>0.612325</td>\n      <td>88.000000</td>\n      <td>1.602500</td>\n      <td>0.270000</td>\n      <td>1.937500</td>\n      <td>3.754075</td>\n      <td>1.250000</td>\n      <td>500.500000</td>\n      <td>2.505010e+05</td>\n      <td>1.742500</td>\n      <td>3.036325</td>\n    </tr>\n    <tr>\n      <th>50%</th>\n      <td>19.500000</td>\n      <td>380.250000</td>\n      <td>13.050000</td>\n      <td>2.360000</td>\n      <td>4.690000</td>\n      <td>2.135000</td>\n      <td>4.558250</td>\n      <td>0.965000</td>\n      <td>0.931250</td>\n      <td>98.000000</td>\n      <td>1.865000</td>\n      <td>0.340000</td>\n      <td>2.780000</td>\n      <td>7.728400</td>\n      <td>1.555000</td>\n      <td>673.500000</td>\n      <td>4.536045e+05</td>\n      <td>2.355000</td>\n      <td>5.546050</td>\n    </tr>\n    <tr>\n      <th>75%</th>\n      <td>21.500000</td>\n      <td>462.250000</td>\n      <td>13.677500</td>\n      <td>2.557500</td>\n      <td>6.200000</td>\n      <td>2.875000</td>\n      <td>8.265700</td>\n      <td>1.120000</td>\n      <td>1.254400</td>\n      <td>107.000000</td>\n      <td>3.082500</td>\n      <td>0.437500</td>\n      <td>3.170000</td>\n      <td>10.048900</td>\n      <td>1.950000</td>\n      <td>985.000000</td>\n      <td>9.702250e+05</td>\n      <td>2.800000</td>\n      <td>7.840000</td>\n    </tr>\n    <tr>\n      <th>max</th>\n      <td>30.000000</td>\n      <td>900.000000</td>\n      <td>14.830000</td>\n      <td>3.230000</td>\n      <td>13.000000</td>\n      <td>5.080000</td>\n      <td>25.806400</td>\n      <td>1.710000</td>\n      <td>2.924100</td>\n      <td>162.000000</td>\n      <td>5.800000</td>\n      <td>0.660000</td>\n      <td>4.000000</td>\n      <td>16.000000</td>\n      <td>3.580000</td>\n      <td>1680.000000</td>\n      <td>2.822400e+06</td>\n      <td>3.880000</td>\n      <td>15.054400</td>\n    </tr>\n  </tbody>\n</table>\n</div>"
     },
     "execution_count": 18,
     "metadata": {},
     "output_type": "execute_result"
    }
   ],
   "source": [
    "X_new.describe()"
   ],
   "metadata": {
    "collapsed": false,
    "pycharm": {
     "name": "#%%\n"
    }
   }
  }
 ],
 "metadata": {
  "kernelspec": {
   "display_name": "Python 3",
   "language": "python",
   "name": "python3"
  },
  "language_info": {
   "codemirror_mode": {
    "name": "ipython",
    "version": 2
   },
   "file_extension": ".py",
   "mimetype": "text/x-python",
   "name": "python",
   "nbconvert_exporter": "python",
   "pygments_lexer": "ipython2",
   "version": "2.7.6"
  }
 },
 "nbformat": 4,
 "nbformat_minor": 0
}